{
  "nbformat": 4,
  "nbformat_minor": 0,
  "metadata": {
    "colab": {
      "provenance": [],
      "authorship_tag": "ABX9TyPDiYiDbMQvi2Lq6AxxubXl",
      "include_colab_link": true
    },
    "kernelspec": {
      "name": "python3",
      "display_name": "Python 3"
    },
    "language_info": {
      "name": "python"
    }
  },
  "cells": [
    {
      "cell_type": "markdown",
      "metadata": {
        "id": "view-in-github",
        "colab_type": "text"
      },
      "source": [
        "<a href=\"https://colab.research.google.com/github/pujitha014/AIML/blob/main/LAB_5.ipynb\" target=\"_parent\"><img src=\"https://colab.research.google.com/assets/colab-badge.svg\" alt=\"Open In Colab\"/></a>"
      ]
    },
    {
      "cell_type": "code",
      "execution_count": null,
      "metadata": {
        "colab": {
          "base_uri": "https://localhost:8080/"
        },
        "id": "k1F_-BtnSEZb",
        "outputId": "b3eb629b-cc35-4ac5-a564-06f3d2469423"
      },
      "outputs": [
        {
          "output_type": "stream",
          "name": "stdout",
          "text": [
            "{'Customer': ['George', 'Rachael', 'Steve', 'Tom', 'Anne'], 'Age': [35, 22, 63, 59, 25], 'Income': [35, 50, 200, 170, 40], 'cards': [3, 2, 1, 1, 4], 'class': [0, 1, 0, 0, 1]}\n",
            "[1]\n"
          ]
        },
        {
          "output_type": "stream",
          "name": "stderr",
          "text": [
            "/usr/local/lib/python3.10/dist-packages/sklearn/base.py:439: UserWarning: X does not have valid feature names, but KNeighborsClassifier was fitted with feature names\n",
            "  warnings.warn(\n"
          ]
        }
      ],
      "source": [
        "data= {'Customer':['George','Rachael','Steve','Tom','Anne'],'Age':[35,22,63,59,25],'Income':[35,50,200,170,40],'cards':[3,2,1,1,4],'class':[0,1,0,0,1]}\n",
        "\n",
        "print(data)\n",
        "\n",
        "import pandas as pd\n",
        "\n",
        "data=pd.DataFrame(data)\n",
        "data\n",
        "\n",
        "x=data.drop(['Customer','class'],axis=1)\n",
        "y=data['class']\n",
        "\n",
        "# y=y.reshape(-1,1)\n",
        "\n",
        "from sklearn.neighbors import KNeighborsClassifier\n",
        "\n",
        "knn = KNeighborsClassifier(n_neighbors=3)\n",
        "knn.fit(x,y)\n",
        "\n",
        "import numpy as np\n",
        "\n",
        "predicted_value = knn.predict([[37,50,2]])\n",
        "\n",
        "print(predicted_value)\n"
      ]
    },
    {
      "cell_type": "code",
      "source": [],
      "metadata": {
        "id": "ed14A_QiiN3p"
      },
      "execution_count": null,
      "outputs": []
    },
    {
      "cell_type": "code",
      "source": [
        "d2={'x1':[7,7,3,1],'x2':[7,4,4,4],'y':[0,0,1,1]}\n",
        "d2=pd.DataFrame(d2)\n",
        "\n",
        "d2\n",
        "\n",
        "x=d2.drop('y',axis=1)\n",
        "y=d2['y']\n",
        "\n",
        "from sklearn.neighbors import KNeighborsClassifier\n",
        "\n",
        "knn = KNeighborsClassifier(n_neighbors=4)\n",
        "knn.fit(x,y)\n",
        "t=np.array([3,7])\n",
        "t=t.reshape(1,-1)\n",
        "p=knn.predict(t)\n",
        "print(p)"
      ],
      "metadata": {
        "colab": {
          "base_uri": "https://localhost:8080/"
        },
        "id": "aNZDtkB6e2MQ",
        "outputId": "20973094-7f80-4621-9821-dbcc0e212cd5"
      },
      "execution_count": null,
      "outputs": [
        {
          "output_type": "stream",
          "name": "stdout",
          "text": [
            "[0]\n"
          ]
        },
        {
          "output_type": "stream",
          "name": "stderr",
          "text": [
            "/usr/local/lib/python3.10/dist-packages/sklearn/base.py:439: UserWarning: X does not have valid feature names, but KNeighborsClassifier was fitted with feature names\n",
            "  warnings.warn(\n"
          ]
        }
      ]
    },
    {
      "cell_type": "code",
      "source": [
        "from sklearn.neighbors import KNeighborsRegressor\n",
        "X_train = [[35, 35, 3], [22, 50, 2], [63, 200, 1], [59, 170, 1], [25, 40, 4]]\n",
        "y_train = [4.5, 5.6, 3.8, 4.2, 6.1]\n",
        "\n",
        "knn = KNeighborsRegressor(n_neighbors=5)\n",
        "knn.fit(X_train, y_train)\n",
        "\n",
        "X_test = [[37, 50, 2]]\n",
        "predictions = knn.predict(X_test)\n",
        "print(predictions)"
      ],
      "metadata": {
        "id": "BdI8r6anj0PX",
        "outputId": "7026067c-b1ab-4b02-9ad8-ded192c5866d",
        "colab": {
          "base_uri": "https://localhost:8080/"
        }
      },
      "execution_count": null,
      "outputs": [
        {
          "output_type": "stream",
          "name": "stdout",
          "text": [
            "[4.84]\n"
          ]
        }
      ]
    }
  ]
}